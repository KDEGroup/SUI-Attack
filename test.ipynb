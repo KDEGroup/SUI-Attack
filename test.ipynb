{
 "cells": [
  {
   "cell_type": "code",
   "execution_count": null,
   "metadata": {},
   "outputs": [],
   "source": [
    "import torch"
   ]
  },
  {
   "cell_type": "code",
   "execution_count": 2,
   "metadata": {},
   "outputs": [
    {
     "name": "stdout",
     "output_type": "stream",
     "text": [
      "----- calculating user/item faetures -----\n",
      "saving to /Users/edisonchen/Desktop/graph/saved/init_embedding/delicious/\n"
     ]
    }
   ],
   "source": [
    "def init_emb_by_feature(trainMatrix, name=None):\n",
    "    user_feat, item_feat = None, None\n",
    "    if os.path.exists(f'/Users/edisonchen/Desktop/graph/saved/init_embedding/{name}/user_feat.pt'):\n",
    "        user_feat = torch.load(f'/Users/edisonchen/Desktop/graph/saved/init_embedding/{name}/user_feat.pt')\n",
    "    if os.path.exists(f'/Users/edisonchen/Desktop/graph/saved/init_embedding/{name}/item_feat.pt'):\n",
    "        item_feat = torch.load(f'/Users/edisonchen/Desktop/graph/saved/init_embedding/{name}/item_feat.pt')\n",
    "    if user_feat is not None and item_feat is not None:\n",
    "        return user_feat, item_feat\n",
    "    feat = Feature(trainMatrix)\n",
    "    user_feat, item_feat = [], []\n",
    "\n",
    "    for user in tqdm(range(trainMatrix.shape[0])):\n",
    "        user_feat.append(feat.get_feature(user))\n",
    "    user_feat = torch.tensor(user_feat, dtype=torch.float)\n",
    "    torch.save(user_feat, f'/Users/edisonchen/Desktop/graph/saved/init_embedding/{name}/user_feat.pt')\n",
    "\n",
    "    feat = Feature(trainMatrix.T)\n",
    "\n",
    "    for item in tqdm(range(trainMatrix.shape[1])):\n",
    "        item_feat.append(feat.get_feature(item))\n",
    "    item_feat = torch.tensor(item_feat, dtype=torch.float)\n",
    "    torch.save(item_feat, f'/Users/edisonchen/Desktop/graph/saved/init_embedding/{name}/item_feat.pt')\n",
    "    return user_feat, item_feat\n",
    "\n",
    "\n",
    "name = 'delicious'\n",
    "datapath = f'/Users/edisonchen/Desktop/graph/data/{name}/raw/{name}.csv'\n",
    "dataset = Data(path_train=datapath)\n",
    "train_df, n_users, n_items = dataset.load_file_as_dataFrame()\n",
    "matrix, _ = dataset.dataFrame_to_matrix(train_df, n_users, n_items)\n",
    "trainMatrix = matrix.toarray()\n",
    "user_feat, item_feat = init_emb_by_feature(trainMatrix, name=name)"
   ]
  },
  {
   "cell_type": "code",
   "execution_count": 11,
   "metadata": {},
   "outputs": [
    {
     "data": {
      "text/plain": [
       "<AxesSubplot: >"
      ]
     },
     "execution_count": 11,
     "metadata": {},
     "output_type": "execute_result"
    },
    {
     "data": {
      "image/png": "[encoded data removed]",
      "text/plain": [
       "<Figure size 640x480 with 1 Axes>"
      ]
     },
     "metadata": {},
     "output_type": "display_data"
    }
   ],
   "source": [
    "import matplotlib.pyplot as plt\n",
    "import seaborn as sns\n",
    "import numpy as np\n",
    "\n",
    "losses = np.load('losses.npy', allow_pickle=True)\n",
    "sns.regplot(x=np.arange(len(losses)), y=losses, marker='+', logx=True, truncate=True, x_bins=10)"
   ]
  },
  {
   "cell_type": "code",
   "execution_count": 17,
   "metadata": {},
   "outputs": [
    {
     "data": {
      "text/plain": [
       "array([[0., 5., 0., ..., 5., 0., 0.]], dtype=float32)"
      ]
     },
     "execution_count": 17,
     "metadata": {},
     "output_type": "execute_result"
    }
   ],
   "source": [
    "all_edges = np.load('edges.npy', allow_pickle=True)\n",
    "edges = all_edges[-1]\n",
    "edges"
   ]
  },
  {
   "cell_type": "code",
   "execution_count": 12,
   "metadata": {},
   "outputs": [],
   "source": [
    "import math\n",
    "def performance(ratings, trainMatrix, target, topk):\n",
    "    if isinstance(ratings, torch.Tensor):\n",
    "        ratings = ratings.detach().cpu().numpy()\n",
    "    if isinstance(trainMatrix, torch.Tensor):\n",
    "        trainMatrix = trainMatrix.detach().cpu().numpy()\n",
    "\n",
    "    mask = trainMatrix != 0\n",
    "    ratings[mask] = -np.inf\n",
    "    hc, nc = 0, 0\n",
    "    for i in range(trainMatrix.shape[0]):\n",
    "        idx = np.argsort(ratings[i])[::-1][:topk]\n",
    "        hc += target in idx\n",
    "        nc += math.log(2) / math.log(np.where(idx == target)[0] + 2) if target in idx else 0\n",
    "    hr = hc / trainMatrix.shape[0]\n",
    "    ndcg = nc / trainMatrix.shape[0]\n",
    "    return hr, ndcg\n"
   ]
  },
  {
   "cell_type": "code",
   "execution_count": 14,
   "metadata": {},
   "outputs": [
    {
     "name": "stderr",
     "output_type": "stream",
     "text": [
      "100%|██████████| 774/774 [00:00<00:00, 915.49it/s] \n",
      "100%|██████████| 774/774 [00:00<00:00, 1084.96it/s]\n",
      "100%|██████████| 774/774 [00:00<00:00, 1141.10it/s]\n",
      "100%|██████████| 774/774 [00:00<00:00, 1166.96it/s]\n",
      "100%|██████████| 774/774 [00:00<00:00, 1148.67it/s]\n",
      "100%|██████████| 774/774 [00:00<00:00, 1159.90it/s]\n",
      "100%|██████████| 774/774 [00:00<00:00, 1161.15it/s]\n",
      "100%|██████████| 774/774 [00:00<00:00, 1164.07it/s]\n",
      "100%|██████████| 774/774 [00:00<00:00, 1160.01it/s]\n",
      "100%|██████████| 774/774 [00:00<00:00, 1165.49it/s]\n",
      "100%|██████████| 774/774 [00:00<00:00, 1186.71it/s]\n",
      "100%|██████████| 774/774 [00:00<00:00, 1160.40it/s]\n",
      "100%|██████████| 774/774 [00:00<00:00, 1147.55it/s]\n",
      "100%|██████████| 774/774 [00:00<00:00, 1115.55it/s]\n",
      "100%|██████████| 774/774 [00:00<00:00, 1194.37it/s]\n",
      "100%|██████████| 774/774 [00:00<00:00, 1150.53it/s]\n",
      "100%|██████████| 774/774 [00:00<00:00, 1184.92it/s]\n",
      "100%|██████████| 774/774 [00:00<00:00, 1173.59it/s]\n",
      "100%|██████████| 774/774 [00:00<00:00, 1137.34it/s]\n",
      "100%|██████████| 774/774 [00:00<00:00, 1140.43it/s]\n",
      "100%|██████████| 774/774 [00:00<00:00, 1173.13it/s]\n",
      "100%|██████████| 774/774 [00:00<00:00, 1151.36it/s]\n",
      "100%|██████████| 774/774 [00:00<00:00, 1073.37it/s]\n",
      "100%|██████████| 774/774 [00:00<00:00, 1155.30it/s]\n",
      "100%|██████████| 774/774 [00:00<00:00, 973.40it/s] \n",
      "100%|██████████| 774/774 [00:00<00:00, 1003.59it/s]\n",
      "100%|██████████| 774/774 [00:00<00:00, 967.37it/s] \n",
      "100%|██████████| 774/774 [00:00<00:00, 1040.39it/s]\n",
      "100%|██████████| 774/774 [00:00<00:00, 1151.74it/s]\n",
      "100%|██████████| 774/774 [00:00<00:00, 1100.19it/s]\n"
     ]
    },
    {
     "name": "stdout",
     "output_type": "stream",
     "text": [
      "(0.8812301166489925, 0.6683402379526497)\n",
      "retrain\n"
     ]
    },
    {
     "name": "stderr",
     "output_type": "stream",
     "text": [
      "100%|██████████| 774/774 [00:00<00:00, 1105.18it/s]\n",
      "100%|██████████| 774/774 [00:00<00:00, 1108.32it/s]\n",
      "100%|██████████| 774/774 [00:00<00:00, 1104.76it/s]\n",
      "100%|██████████| 774/774 [00:00<00:00, 1108.17it/s]\n",
      "100%|██████████| 774/774 [00:00<00:00, 1102.21it/s]\n",
      "100%|██████████| 774/774 [00:00<00:00, 1111.03it/s]\n",
      "100%|██████████| 774/774 [00:00<00:00, 1101.90it/s]\n",
      "100%|██████████| 774/774 [00:00<00:00, 1108.34it/s]\n",
      "100%|██████████| 774/774 [00:00<00:00, 1098.90it/s]\n",
      "100%|██████████| 774/774 [00:00<00:00, 1100.25it/s]\n",
      "100%|██████████| 774/774 [00:00<00:00, 1103.96it/s]\n",
      "100%|██████████| 774/774 [00:00<00:00, 1104.67it/s]\n",
      "100%|██████████| 774/774 [00:00<00:00, 1100.94it/s]\n",
      "100%|██████████| 774/774 [00:00<00:00, 1025.59it/s]\n",
      "100%|██████████| 774/774 [00:00<00:00, 904.15it/s]\n",
      "100%|██████████| 774/774 [00:00<00:00, 893.01it/s]\n",
      "100%|██████████| 774/774 [00:00<00:00, 1052.89it/s]\n",
      "100%|██████████| 774/774 [00:00<00:00, 970.27it/s] \n",
      "100%|██████████| 774/774 [00:00<00:00, 979.00it/s] \n",
      "100%|██████████| 774/774 [00:00<00:00, 1041.16it/s]\n",
      "100%|██████████| 774/774 [00:00<00:00, 1061.07it/s]\n",
      "100%|██████████| 774/774 [00:00<00:00, 1082.56it/s]\n",
      "100%|██████████| 774/774 [00:00<00:00, 1000.63it/s]\n",
      "100%|██████████| 774/774 [00:00<00:00, 1089.91it/s]\n",
      "100%|██████████| 774/774 [00:00<00:00, 1090.21it/s]\n",
      "100%|██████████| 774/774 [00:00<00:00, 1080.06it/s]\n",
      "100%|██████████| 774/774 [00:00<00:00, 944.30it/s] \n",
      "100%|██████████| 774/774 [00:00<00:00, 1050.75it/s]\n",
      "100%|██████████| 774/774 [00:00<00:00, 1043.19it/s]\n",
      "100%|██████████| 774/774 [00:00<00:00, 1115.54it/s]\n"
     ]
    },
    {
     "name": "stdout",
     "output_type": "stream",
     "text": [
      "(0.8802966101694916, 0.6499939295580726)\n"
     ]
    }
   ],
   "source": [
    "from IHVP import SVD, train_svd\n",
    "from data_pre import trainMatrix, user_item\n",
    "import torch\n",
    "import numpy as np\n",
    "\n",
    "target = 0\n",
    "\n",
    "trainMatrix = np.concatenate([trainMatrix, edges], 0)\n",
    "recommender = SVD(trainMatrix, feat_dim=128)\n",
    "optimizer = torch.optim.SGD(recommender.parameters(), lr=1e-2, momentum=0.9, weight_decay=1e-5) \n",
    "ratings, _ = train_svd(user_item, recommender, optimizer)\n",
    "print(performance(ratings, trainMatrix, target, 10))\n",
    "del recommender\n",
    "del optimizer\n",
    "del trainMatrix\n",
    "\n",
    "\n",
    "print('retrain')\n",
    "from data_pre import trainMatrix\n",
    "recommender = SVD(trainMatrix, feat_dim=128)\n",
    "optimizer = torch.optim.SGD(recommender.parameters(), lr=1e-2, momentum=0.9, weight_decay=1e-5) \n",
    "ratings, _ = train_svd(user_item, recommender, optimizer)\n",
    "print(performance(ratings, trainMatrix, target, 10))\n",
    "del recommender\n",
    "del optimizer"
   ]
  },
  {
   "cell_type": "code",
   "execution_count": 41,
   "metadata": {},
   "outputs": [
    {
     "data": {
      "text/plain": [
       "0.8822905620360552"
      ]
     },
     "execution_count": 41,
     "metadata": {},
     "output_type": "execute_result"
    }
   ],
   "source": [
    "hrs[new_target]"
   ]
  },
  {
   "cell_type": "code",
   "execution_count": 2,
   "metadata": {},
   "outputs": [
    {
     "data": {
      "text/plain": [
       "dict_keys(['aliceblue', 'antiquewhite', 'aqua', 'aquamarine', 'azure', 'beige', 'bisque', 'black', 'blanchedalmond', 'blue', 'blueviolet', 'brown', 'burlywood', 'cadetblue', 'chartreuse', 'chocolate', 'coral', 'cornflowerblue', 'cornsilk', 'crimson', 'cyan', 'darkblue', 'darkcyan', 'darkgoldenrod', 'darkgray', 'darkgreen', 'darkgrey', 'darkkhaki', 'darkmagenta', 'darkolivegreen', 'darkorange', 'darkorchid', 'darkred', 'darksalmon', 'darkseagreen', 'darkslateblue', 'darkslategray', 'darkslategrey', 'darkturquoise', 'darkviolet', 'deeppink', 'deepskyblue', 'dimgray', 'dimgrey', 'dodgerblue', 'firebrick', 'floralwhite', 'forestgreen', 'fuchsia', 'gainsboro', 'ghostwhite', 'gold', 'goldenrod', 'gray', 'green', 'greenyellow', 'grey', 'honeydew', 'hotpink', 'indianred', 'indigo', 'ivory', 'khaki', 'lavender', 'lavenderblush', 'lawngreen', 'lemonchiffon', 'lightblue', 'lightcoral', 'lightcyan', 'lightgoldenrodyellow', 'lightgray', 'lightgreen', 'lightgrey', 'lightpink', 'lightsalmon', 'lightseagreen', 'lightskyblue', 'lightslategray', 'lightslategrey', 'lightsteelblue', 'lightyellow', 'lime', 'limegreen', 'linen', 'magenta', 'maroon', 'mediumaquamarine', 'mediumblue', 'mediumorchid', 'mediumpurple', 'mediumseagreen', 'mediumslateblue', 'mediumspringgreen', 'mediumturquoise', 'mediumvioletred', 'midnightblue', 'mintcream', 'mistyrose', 'moccasin', 'navajowhite', 'navy', 'oldlace', 'olive', 'olivedrab', 'orange', 'orangered', 'orchid', 'palegoldenrod', 'palegreen', 'paleturquoise', 'palevioletred', 'papayawhip', 'peachpuff', 'peru', 'pink', 'plum', 'powderblue', 'purple', 'rebeccapurple', 'red', 'rosybrown', 'royalblue', 'saddlebrown', 'salmon', 'sandybrown', 'seagreen', 'seashell', 'sienna', 'silver', 'skyblue', 'slateblue', 'slategray', 'slategrey', 'snow', 'springgreen', 'steelblue', 'tan', 'teal', 'thistle', 'tomato', 'turquoise', 'violet', 'wheat', 'white', 'whitesmoke', 'yellow', 'yellowgreen'])"
      ]
     },
     "execution_count": 2,
     "metadata": {},
     "output_type": "execute_result"
    }
   ],
   "source": [
    "import matplotlib.colors as mcolors\n",
    "\n",
    "mcolors.CSS4_COLORS.keys()"
   ]
  },
  {
   "cell_type": "code",
   "execution_count": 20,
   "metadata": {},
   "outputs": [
    {
     "data": {
      "text/plain": [
       "tensor([[[0, 0, 0, 0, 0, 0],\n",
       "         [0, 0, 0, 0, 0, 0],\n",
       "         [0, 0, 0, 0, 0, 0],\n",
       "         [0, 0, 0, 0, 0, 0],\n",
       "         [0, 0, 0, 0, 0, 0],\n",
       "         [0, 0, 0, 0, 0, 0]],\n",
       "\n",
       "        [[0, 0, 0, 0, 1, 0],\n",
       "         [0, 0, 0, 0, 0, 0],\n",
       "         [0, 0, 0, 0, 0, 0],\n",
       "         [0, 1, 0, 0, 0, 0],\n",
       "         [0, 0, 0, 0, 1, 0],\n",
       "         [0, 0, 0, 0, 0, 0]],\n",
       "\n",
       "        [[0, 2, 0, 0, 0, 0],\n",
       "         [0, 0, 0, 0, 2, 0],\n",
       "         [2, 0, 2, 0, 0, 0],\n",
       "         [2, 0, 0, 0, 2, 2],\n",
       "         [0, 2, 0, 0, 0, 0],\n",
       "         [2, 2, 0, 2, 0, 0]],\n",
       "\n",
       "        [[3, 0, 0, 0, 0, 0],\n",
       "         [0, 0, 3, 3, 0, 0],\n",
       "         [0, 3, 0, 0, 3, 0],\n",
       "         [0, 0, 0, 0, 0, 0],\n",
       "         [0, 0, 3, 0, 0, 0],\n",
       "         [0, 0, 0, 0, 0, 0]],\n",
       "\n",
       "        [[0, 0, 0, 0, 0, 0],\n",
       "         [4, 0, 0, 0, 0, 4],\n",
       "         [0, 0, 0, 0, 0, 4],\n",
       "         [0, 0, 0, 0, 0, 0],\n",
       "         [0, 0, 0, 0, 0, 0],\n",
       "         [0, 0, 0, 0, 4, 4]],\n",
       "\n",
       "        [[0, 0, 0, 0, 0, 0],\n",
       "         [0, 0, 0, 0, 0, 0],\n",
       "         [0, 0, 0, 0, 0, 0],\n",
       "         [0, 0, 5, 5, 0, 0],\n",
       "         [5, 0, 0, 0, 0, 5],\n",
       "         [0, 0, 0, 0, 0, 0]]], dtype=torch.int32)"
      ]
     },
     "execution_count": 20,
     "metadata": {},
     "output_type": "execute_result"
    }
   ],
   "source": [
    "import torch\n",
    "\n",
    "# 创建一个二维张量\n",
    "input_tensor = torch.randint(0, 6, (6, 6))\n",
    "\n",
    "# 按照0-5的范围划分成5个二维张量\n",
    "sub_tensors = []\n",
    "for i in range(6):\n",
    "    mask = (input_tensor == i)\n",
    "    sub_tensors.append(mask.int() * i)\n",
    "\n",
    "# 合并为一个三维张量\n",
    "output_tensor = (torch.stack(sub_tensors, dim=0))\n",
    "\n",
    "output_tensor"
   ]
  },
  {
   "cell_type": "code",
   "execution_count": null,
   "metadata": {},
   "outputs": [],
   "source": []
  }
 ],
 "metadata": {
  "interpreter": {
   "hash": "206d3b8df4aff82bd377c37925aba5fa156a7e1fc22fb68c892a465041b0a30a"
  },
  "kernelspec": {
   "display_name": "Python 3.8.15 ('edc')",
   "language": "python",
   "name": "python3"
  },
  "language_info": {
   "codemirror_mode": {
    "name": "ipython",
    "version": 3
   },
   "file_extension": ".py",
   "mimetype": "text/x-python",
   "name": "python",
   "nbconvert_exporter": "python",
   "pygments_lexer": "ipython3",
   "version": "3.8.17"
  },
  "orig_nbformat": 4
 },
 "nbformat": 4,
 "nbformat_minor": 2
}
